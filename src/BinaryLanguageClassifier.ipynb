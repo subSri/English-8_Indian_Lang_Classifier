{
 "cells": [
  {
   "cell_type": "code",
   "execution_count": 1,
   "metadata": {},
   "outputs": [],
   "source": [
    "import logging\n",
    "import pandas as pd\n",
    "import numpy as np\n",
    "from numpy import random\n",
    "\n",
    "import nltk\n",
    "from sklearn.model_selection import train_test_split\n",
    "from sklearn.feature_extraction.text import CountVectorizer, TfidfVectorizer\n",
    "from sklearn.metrics import accuracy_score, confusion_matrix\n",
    "import matplotlib.pyplot as plt\n",
    "from nltk.corpus import stopwords\n",
    "import re\n",
    "from bs4 import BeautifulSoup"
   ]
  },
  {
   "cell_type": "code",
   "execution_count": null,
   "metadata": {},
   "outputs": [],
   "source": []
  },
  {
   "cell_type": "code",
   "execution_count": 81,
   "metadata": {},
   "outputs": [],
   "source": [
    "f = open(r\"C:\\Users\\SUBHAM\\Desktop\\DS-LanguageClass\\eng2.txt\")\n",
    "cont = f.read()\n",
    "\n",
    "eng_data = cont.split(\"\\n\")\n",
    "\n",
    "f.close()\n",
    "eng_data = eng_data[0:len(eng_data)-1]\n",
    "# print(eng_data)\n",
    "eng_label = ['en']*len(eng_data)\n"
   ]
  },
  {
   "cell_type": "code",
   "execution_count": 124,
   "metadata": {
    "scrolled": true
   },
   "outputs": [],
   "source": [
    "f = open(r\"C:\\Users\\SUBHAM\\Desktop\\DS-LanguageClass\\maratiW.txt\",encoding=\"utf8\")\n",
    "cont = f.read()\n",
    "\n",
    "beng_data = cont.split(\"\\n\")\n",
    "beng_data = beng_data[0:len(beng_data)-2]\n",
    "f.close()\n",
    "# print(beng_data)"
   ]
  },
  {
   "cell_type": "code",
   "execution_count": 125,
   "metadata": {},
   "outputs": [
    {
     "name": "stderr",
     "output_type": "stream",
     "text": [
      "IOPub data rate exceeded.\n",
      "The notebook server will temporarily stop sending output\n",
      "to the client in order to avoid crashing it.\n",
      "To change this limit, set the config variable\n",
      "`--NotebookApp.iopub_data_rate_limit`.\n",
      "\n",
      "Current values:\n",
      "NotebookApp.iopub_data_rate_limit=1000000.0 (bytes/sec)\n",
      "NotebookApp.rate_limit_window=3.0 (secs)\n",
      "\n"
     ]
    }
   ],
   "source": [
    "beng_ngram_data = []\n",
    "\n",
    "for m in range(len(beng_data)):\n",
    "    i=0\n",
    "    j=0\n",
    "    allstrings = []\n",
    "    allstrings = [beng_data[m][i:j] for i in range(len(beng_data[m])) for j in range(i+1,len(beng_data[m])+1)] \n",
    "#     for i in range(len(beng_data[m])):\n",
    "#         for j in range(len(beng_data[m])):\n",
    "#             if i+j<=len(beng_data[m]):\n",
    "#                 allstrings.append(beng_data[m][j:i+j])\n",
    "                          \n",
    "    buf1 = \"\"\n",
    "    if len(allstrings)>0:\n",
    "        for n in allstrings:\n",
    "            if len(n)<=5:\n",
    "                buf1=buf1+\" \"+n\n",
    "        beng_ngram_data.append(buf1)\n",
    "\n",
    "print(beng_ngram_data)\n",
    "beng_label = ['mr']*len(beng_ngram_data)"
   ]
  },
  {
   "cell_type": "code",
   "execution_count": 127,
   "metadata": {},
   "outputs": [
    {
     "name": "stdout",
     "output_type": "stream",
     "text": [
      "1053691 1053691\n"
     ]
    }
   ],
   "source": [
    "X = beng_ngram_data + eng_data\n",
    "# print(X)\n",
    "y = beng_label + eng_label\n",
    "print(len(X),len(y))"
   ]
  },
  {
   "cell_type": "code",
   "execution_count": null,
   "metadata": {},
   "outputs": [],
   "source": []
  },
  {
   "cell_type": "code",
   "execution_count": 128,
   "metadata": {},
   "outputs": [],
   "source": [
    "idx = np.random.permutation(len(X))\n",
    "X_data = []\n",
    "y_data = []\n",
    "for i in idx:\n",
    "    \n",
    "    X_data.append(X[i-1])\n",
    "    y_data.append(y[i-1])\n"
   ]
  },
  {
   "cell_type": "code",
   "execution_count": 129,
   "metadata": {},
   "outputs": [],
   "source": [
    "from sklearn.linear_model import LogisticRegression\n",
    "from sklearn.pipeline import Pipeline\n",
    "from sklearn.naive_bayes import MultinomialNB\n",
    "from sklearn.feature_extraction.text import TfidfTransformer\n",
    "from sklearn.model_selection import train_test_split\n",
    "from sklearn.linear_model import SGDClassifier\n",
    "from sklearn.neural_network import MLPClassifier\n",
    "from sklearn.metrics import f1_score\n",
    "\n",
    "X_train, X_test, y_train, y_test = train_test_split(X_data, y_data, test_size=0.2, random_state=42)\n",
    "\n"
   ]
  },
  {
   "cell_type": "code",
   "execution_count": 130,
   "metadata": {},
   "outputs": [],
   "source": [
    "#0.0.9154334038054969 Bengali\n",
    "#\n",
    "nb= Pipeline([('vect', CountVectorizer()),\n",
    "#                ('tfidf', TfidfTransformer()),\n",
    "               ('clf', LogisticRegression(random_state=100)),\n",
    "              ])\n"
   ]
  },
  {
   "cell_type": "code",
   "execution_count": 131,
   "metadata": {},
   "outputs": [],
   "source": [
    "#  #.0.9043340380549683 Bengali\n",
    "\n",
    "# nb = Pipeline([('vect', CountVectorizer()),\n",
    "# #                 ('tfidf', TfidfTransformer()),\n",
    "#                 ('clf', SGDClassifier(loss='hinge', penalty='l2',alpha=1e-3, random_state=42, max_iter=5, tol=None)),\n",
    "#                ])"
   ]
  },
  {
   "cell_type": "code",
   "execution_count": 132,
   "metadata": {},
   "outputs": [],
   "source": [
    "\n",
    "\n",
    "# #Initializing the MLPClassifier\n",
    "# nb = Pipeline([('vect', CountVectorizer()),\n",
    "# #                ('tfidf', TfidfTransformer()),\n",
    "#                ('clf',  MLPClassifier(alpha = 0.7, max_iter=50)),\n",
    "#               ])"
   ]
  },
  {
   "cell_type": "code",
   "execution_count": 133,
   "metadata": {},
   "outputs": [],
   "source": [
    "# #0.904334038054968385 Bengali\n",
    "\n",
    "# b = Pipeline([('vect', CountVectorizer()),\n",
    "# #                ('tfidf', TfidfTransformer()),\n",
    "#                ('clf', MultinomialNB()),\n",
    "#               ])\n"
   ]
  },
  {
   "cell_type": "code",
   "execution_count": 134,
   "metadata": {},
   "outputs": [],
   "source": [
    "nb.fit(X_train, y_train)\n",
    "\n",
    "from sklearn.metrics import classification_report\n",
    "y_pred = nb.predict(X_test)"
   ]
  },
  {
   "cell_type": "code",
   "execution_count": 135,
   "metadata": {},
   "outputs": [
    {
     "name": "stdout",
     "output_type": "stream",
     "text": [
      "accuracy 0.9987757368118858\n",
      "f1 Score  0.9987757368118858\n"
     ]
    }
   ],
   "source": [
    "acc = accuracy_score(y_pred, y_test)\n",
    "print('accuracy %s' % acc)\n",
    "\n",
    "f1sc = f1_score(y_test, y_pred, average='micro')\n",
    "print('f1 Score ',f1sc)"
   ]
  },
  {
   "cell_type": "code",
   "execution_count": 136,
   "metadata": {},
   "outputs": [],
   "source": [
    "import pickle\n",
    "filename = 'mr_en_.sav'\n",
    "pickle.dump(nb, open(filename, 'wb'))"
   ]
  },
  {
   "cell_type": "code",
   "execution_count": null,
   "metadata": {},
   "outputs": [],
   "source": []
  },
  {
   "cell_type": "code",
   "execution_count": 115,
   "metadata": {},
   "outputs": [],
   "source": [
    "measures['Tamil']['Accuracy'] = acc\n",
    "measures['Tamil']['F1-Score'] =  f1sc"
   ]
  },
  {
   "cell_type": "code",
   "execution_count": 116,
   "metadata": {},
   "outputs": [
    {
     "data": {
      "text/html": [
       "<div>\n",
       "<style scoped>\n",
       "    .dataframe tbody tr th:only-of-type {\n",
       "        vertical-align: middle;\n",
       "    }\n",
       "\n",
       "    .dataframe tbody tr th {\n",
       "        vertical-align: top;\n",
       "    }\n",
       "\n",
       "    .dataframe thead th {\n",
       "        text-align: right;\n",
       "    }\n",
       "</style>\n",
       "<table border=\"1\" class=\"dataframe\">\n",
       "  <thead>\n",
       "    <tr style=\"text-align: right;\">\n",
       "      <th></th>\n",
       "      <th>Beng</th>\n",
       "      <th>Hindi</th>\n",
       "      <th>Eng</th>\n",
       "      <th>Kannada</th>\n",
       "      <th>Telugu</th>\n",
       "      <th>Tamil</th>\n",
       "      <th>Guj</th>\n",
       "      <th>Marathi</th>\n",
       "      <th>Malyalam</th>\n",
       "    </tr>\n",
       "  </thead>\n",
       "  <tbody>\n",
       "    <tr>\n",
       "      <th>Accuracy</th>\n",
       "      <td>0.914376</td>\n",
       "      <td>0.923673</td>\n",
       "      <td>0.0</td>\n",
       "      <td>0.964544</td>\n",
       "      <td>0.996533</td>\n",
       "      <td>0.978005</td>\n",
       "      <td>0.931385</td>\n",
       "      <td>0.998667</td>\n",
       "      <td>0.955165</td>\n",
       "    </tr>\n",
       "    <tr>\n",
       "      <th>F1-Score</th>\n",
       "      <td>0.914376</td>\n",
       "      <td>0.923673</td>\n",
       "      <td>0.0</td>\n",
       "      <td>0.964544</td>\n",
       "      <td>0.996533</td>\n",
       "      <td>0.978005</td>\n",
       "      <td>0.931385</td>\n",
       "      <td>0.998667</td>\n",
       "      <td>0.955165</td>\n",
       "    </tr>\n",
       "  </tbody>\n",
       "</table>\n",
       "</div>"
      ],
      "text/plain": [
       "              Beng     Hindi  Eng   Kannada    Telugu     Tamil       Guj  \\\n",
       "Accuracy  0.914376  0.923673  0.0  0.964544  0.996533  0.978005  0.931385   \n",
       "F1-Score  0.914376  0.923673  0.0  0.964544  0.996533  0.978005  0.931385   \n",
       "\n",
       "           Marathi  Malyalam  \n",
       "Accuracy  0.998667  0.955165  \n",
       "F1-Score  0.998667  0.955165  "
      ]
     },
     "metadata": {},
     "output_type": "display_data"
    }
   ],
   "source": [
    "display(measures) #Logistic"
   ]
  },
  {
   "cell_type": "code",
   "execution_count": 15,
   "metadata": {},
   "outputs": [],
   "source": [
    "\n",
    "#measures = pd.DataFrame(np.zeros([2,9]),index=['Accuracy', 'F1-Score'],columns = ['Beng','Hindi','Eng','Kannada','Telugu','Tamil','Guj','Marathi','Malyalam'])\n"
   ]
  },
  {
   "cell_type": "code",
   "execution_count": null,
   "metadata": {},
   "outputs": [],
   "source": []
  }
 ],
 "metadata": {
  "kernelspec": {
   "display_name": "Python 3",
   "language": "python",
   "name": "python3"
  },
  "language_info": {
   "codemirror_mode": {
    "name": "ipython",
    "version": 3
   },
   "file_extension": ".py",
   "mimetype": "text/x-python",
   "name": "python",
   "nbconvert_exporter": "python",
   "pygments_lexer": "ipython3",
   "version": "3.7.1rc2"
  }
 },
 "nbformat": 4,
 "nbformat_minor": 2
}
